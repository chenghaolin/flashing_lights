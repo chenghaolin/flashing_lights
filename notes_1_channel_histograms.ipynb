{
 "cells": [
  {
   "cell_type": "markdown",
   "metadata": {},
   "source": [
    "purpose:\n",
    "\n",
    "Loads an image\n",
    "\n",
    "Splits the image into its R, G and B planes using the function cv::split\n",
    "\n",
    "Calculate the Histogram of each 1-channel plane by calling the function cv::calcHist\n",
    "\n",
    "Plot the three histograms in a window"
   ]
  },
  {
   "cell_type": "code",
   "execution_count": null,
   "metadata": {},
   "outputs": [],
   "source": [
    "from __future__ import print_function\n",
    "from __future__ import division\n",
    "import cv2 as cv\n",
    "import numpy as np\n",
    "import argparse"
   ]
  },
  {
   "cell_type": "code",
   "execution_count": null,
   "metadata": {},
   "outputs": [],
   "source": [
    "parser = argparse.ArgumentParser(description='Code for Histogram Calculation tutorial.')\n",
    "parser.add_argument('--input', help='Path to input image.', default='1.jpg')\n",
    "args = parser.parse_args()\n",
    "src = cv.imread(cv.samples.findFile(args.input))\n",
    "if src is None:\n",
    "    print('Could not open or find the image:', args.input)\n",
    "    exit(0)\n",
    "bgr_planes = cv.split(src)\n",
    "histSize = 256\n",
    "histRange = (0, 256) # the upper boundary is exclusive\n",
    "accumulate = False\n",
    "b_hist = cv.calcHist(bgr_planes, [0], None, [histSize], histRange, accumulate=accumulate)\n",
    "g_hist = cv.calcHist(bgr_planes, [1], None, [histSize], histRange, accumulate=accumulate)\n",
    "r_hist = cv.calcHist(bgr_planes, [2], None, [histSize], histRange, accumulate=accumulate)\n",
    "hist_w = 512\n",
    "hist_h = 400\n",
    "bin_w = int(round( hist_w/histSize ))\n",
    "histImage = np.zeros((hist_h, hist_w, 3), dtype=np.uint8)\n",
    "cv.normalize(b_hist, b_hist, alpha=0, beta=hist_h, norm_type=cv.NORM_MINMAX)\n",
    "cv.normalize(g_hist, g_hist, alpha=0, beta=hist_h, norm_type=cv.NORM_MINMAX)\n",
    "cv.normalize(r_hist, r_hist, alpha=0, beta=hist_h, norm_type=cv.NORM_MINMAX)\n",
    "for i in range(1, histSize):\n",
    "    cv.line(histImage, ( bin_w*(i-1), hist_h - int(round(b_hist[i-1])) ),\n",
    "            ( bin_w*(i), hist_h - int(round(b_hist[i])) ),\n",
    "            ( 255, 0, 0), thickness=2)\n",
    "    cv.line(histImage, ( bin_w*(i-1), hist_h - int(round(g_hist[i-1])) ),\n",
    "            ( bin_w*(i), hist_h - int(round(g_hist[i])) ),\n",
    "            ( 0, 255, 0), thickness=2)\n",
    "    cv.line(histImage, ( bin_w*(i-1), hist_h - int(round(r_hist[i-1])) ),\n",
    "            ( bin_w*(i), hist_h - int(round(r_hist[i])) ),\n",
    "            ( 0, 0, 255), thickness=2)\n",
    "cv.imshow('Source image', src)\n",
    "cv.imshow('calcHist Demo', histImage)\n",
    "cv.waitKey()"
   ]
  },
  {
   "cell_type": "code",
   "execution_count": null,
   "metadata": {},
   "outputs": [],
   "source": []
  }
 ],
 "metadata": {
  "kernelspec": {
   "display_name": "Python 3",
   "language": "python",
   "name": "python3"
  },
  "language_info": {
   "codemirror_mode": {
    "name": "ipython",
    "version": 3
   },
   "file_extension": ".py",
   "mimetype": "text/x-python",
   "name": "python",
   "nbconvert_exporter": "python",
   "pygments_lexer": "ipython3",
   "version": "3.7.4"
  }
 },
 "nbformat": 4,
 "nbformat_minor": 2
}
