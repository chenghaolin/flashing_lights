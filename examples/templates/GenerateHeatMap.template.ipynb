{
 "cells": [
  {
   "cell_type": "markdown",
   "metadata": {},
   "source": [
    "# flashing_lights.GenerateHeatMap() User Template\n",
    "* Here to help you generate a heatmap from your own data\n",
    "* **Have flashing_lights installed before running this notebook**\n",
    "* Please look through the worked example notebook before executing code in this notebook.\n",
    "* Bullets with the heading \"USER:\" refer to instructions for the user to run the code\n",
    "* To execute code hit shift+enter; enter will only create a new line within a cell"
   ]
  },
  {
   "cell_type": "markdown",
   "metadata": {},
   "source": [
    "### Part 1 - Importing Modules\n",
    "* USER: This part does not need to be modified by the user"
   ]
  },
  {
   "cell_type": "code",
   "execution_count": null,
   "metadata": {},
   "outputs": [],
   "source": [
    "import numpy as np\n",
    "import pandas as pd\n",
    "import matplotlib.pyplot as plt\n",
    "import cv2\n",
    "from flashing_lights.GenerateHeatMap import GetFreqCounts\n",
    "from flashing_lights.GenerateHeatMap import GetFreqArray\n",
    "from flashing_lights.GenerateHeatMap import Heatmap"
   ]
  },
  {
   "cell_type": "markdown",
   "metadata": {},
   "source": [
    "### Part 2 - Loading Video File\n",
    "* USER: Write the path to the videofile between the quotes"
   ]
  },
  {
   "cell_type": "code",
   "execution_count": null,
   "metadata": {},
   "outputs": [],
   "source": [
    "my_video = '~/<path to>/videofile.tif'"
   ]
  },
  {
   "cell_type": "markdown",
   "metadata": {},
   "source": [
    "### Part 3 - Generate Heat Map\n",
    "* All we need to make a heatmap is the videofile, as well as a filename and location for the generated image\n",
    "* USER: Replace img_path with the path to the location you want the image saved; replace img_name with the desired filename of the generated image.\n",
    "    * Note: img_path and img_name must be strings, be sure to write them in quotes  "
   ]
  },
  {
   "cell_type": "code",
   "execution_count": null,
   "metadata": {},
   "outputs": [],
   "source": [
    "Heatmap(my_video, img_path, img_name)"
   ]
  }
 ],
 "metadata": {
  "kernelspec": {
   "display_name": "Python 3",
   "language": "python",
   "name": "python3"
  },
  "language_info": {
   "codemirror_mode": {
    "name": "ipython",
    "version": 3
   },
   "file_extension": ".py",
   "mimetype": "text/x-python",
   "name": "python",
   "nbconvert_exporter": "python",
   "pygments_lexer": "ipython3",
   "version": "3.7.4"
  }
 },
 "nbformat": 4,
 "nbformat_minor": 2
}
