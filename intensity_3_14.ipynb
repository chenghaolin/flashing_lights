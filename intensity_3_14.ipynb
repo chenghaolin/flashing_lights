{
 "cells": [
  {
   "cell_type": "code",
   "execution_count": 257,
   "metadata": {},
   "outputs": [],
   "source": [
    "import numpy as np\n",
    "import matplotlib.pyplot as plt\n",
    "from skimage.io import imread\n",
    "import cv2"
   ]
  },
  {
   "cell_type": "code",
   "execution_count": 258,
   "metadata": {},
   "outputs": [],
   "source": [
    "def GetIntensityCounts(frame, threshold):\n",
    "    \"\"\"Input:\n",
    "    frame: ndarray of pixels (image file or video frame)\n",
    "    threshold: minimum brightness for an event detection\n",
    "    \n",
    "    Output: an ndarray of boolean values describing which\n",
    "    pixels were above the brightness threshold in the frame\n",
    "    \"\"\"\n",
    "    # Generating empty matrix for coordinate assignment   \n",
    "    intensity = np.zeros((len(frame), len(frame)))\n",
    "    # Generating index lists to keep track of coordinates\n",
    "    index_count_row = []\n",
    "    index_count_col = []\n",
    "    \n",
    "    # Looks through matrix for points above a brightness threshold\n",
    "   \n",
    "    # Finding coordinates of brightness events\n",
    "    row, col = np.where(frame >= threshold)\n",
    "    for i in range(len(row)):\n",
    "        for j in range(len(col)):\n",
    "            # Adds up value of intensity in the position of\n",
    "            # the given brightness event\n",
    "            # draw the box of the ROI\n",
    "            roi = edge[i:i,j:j]\n",
    "            intensity[i, j] = np.mean(roi)\n",
    "            index_count_row.append(row[i])\n",
    "            index_count_col.append(col[i])\n",
    "    return intensity"
   ]
  },
  {
   "cell_type": "code",
   "execution_count": 259,
   "metadata": {},
   "outputs": [],
   "source": [
    "def GetIntensityArray(videofile):\n",
    "    \"\"\"\n",
    "    Input:\n",
    "    -videofile: file containing an image stack of fluorescent events\n",
    "    Output: 2-d Array of frequency values for each pixel above\n",
    "    a calculated brightness threshold in the video\n",
    "    \"\"\"\n",
    "    # Reading video file and convert to grayscale images\n",
    "    ret, img = cv2.imreadmulti(videofile, flags=cv2.IMREAD_GRAYSCALE)\n",
    "    # Creating empty array to add up intensities\n",
    "    intensity_array = np.zeros(np.shape(img[0]))\n",
    "    print (np.shape(img[0]))\n",
    "    # Looking through each frame to get the intensity\n",
    "    for frame in range(len(img)):\n",
    "        # Setting threshold using mean and stdev of pixel brightness\n",
    "        #mean = np.mean(img[frame])\n",
    "        #std = np.std(img[frame])\n",
    "        #threshold = mean + 3*std\n",
    "        \n",
    "        ret, threshold = cv2.threshold(gray, 120, 255, cv2.THRESH_BINARY_INV)\n",
    "        edge = cv2.Canny(threshold, 50,100)\n",
    "        \n",
    "        \n",
    "        intensity = GetIntensityCounts(img[frame], threshold)\n",
    "        \n",
    "        if len(np.where(intensity == 1)) > 0:\n",
    "            # Get coordinates of the single pixel counts\n",
    "            row, col = np.where(intensity == 1)\n",
    "            for i in range(len(row)):\n",
    "                for j in range(len(col)):\n",
    "                    # find mean intensity of the boxed ROI\n",
    "                    #roi_avg_intensity = np.mean(roi_gray)\n",
    "                    roi = edge[i:i+1,j:j+1]\n",
    "                    print (roi)\n",
    "                    intensity[i, j] = np.mean(roi)\n",
    "                    # Add single count to intensity_array in location of event\n",
    "                    intensity_array[row[i], col[j]] += np.mean(roi)\n",
    "        else:\n",
    "            pass\n",
    "    return intensity_array\n"
   ]
  },
  {
   "cell_type": "code",
   "execution_count": 260,
   "metadata": {},
   "outputs": [
    {
     "name": "stdout",
     "output_type": "stream",
     "text": [
      "(512, 512)\n"
     ]
    },
    {
     "data": {
      "text/plain": [
       "array([[0., 0., 0., ..., 0., 0., 0.],\n",
       "       [0., 0., 0., ..., 0., 0., 0.],\n",
       "       [0., 0., 0., ..., 0., 0., 0.],\n",
       "       ...,\n",
       "       [0., 0., 0., ..., 0., 0., 0.],\n",
       "       [0., 0., 0., ..., 0., 0., 0.],\n",
       "       [0., 0., 0., ..., 0., 0., 0.]])"
      ]
     },
     "execution_count": 260,
     "metadata": {},
     "output_type": "execute_result"
    }
   ],
   "source": [
    "GetIntensityArray('NP_test1.tif')"
   ]
  },
  {
   "cell_type": "code",
   "execution_count": 261,
   "metadata": {},
   "outputs": [],
   "source": [
    "def Heatmap(videofile, img_path, img_name):\n",
    "    # Reading video file\n",
    "    ret, img = cv2.imreadmulti(videofile, flags=cv2.IMREAD_GRAYSCALE)\n",
    "    # obtaining frequency array\n",
    "    z = GetIntensityArray(videofile)\n",
    "    # Generating x and y axes in shape of image frame\n",
    "    pixel_X = np.arange(0, len(img[0]), 1)\n",
    "    pixel_Y = np.arange(0, len(img[0]), 1)\n",
    "    # Mapping frequency array onto the x and y axes\n",
    "    fig = plt.pcolormesh(pixel_X, pixel_Y, z, cmap='plasma')\n",
    "    plt.xlabel('Pixel Count')\n",
    "    plt.ylabel('Pixel Count')\n",
    "    plt.title('Intensity Heat Map')\n",
    "    # picture is saved in file location designated by user\n",
    "    plt.savefig(img_path + '/' + img_name + '.png', bbox_inches='tight')\n",
    "    return fig"
   ]
  },
  {
   "cell_type": "code",
   "execution_count": 262,
   "metadata": {},
   "outputs": [
    {
     "name": "stdout",
     "output_type": "stream",
     "text": [
      "(512, 512)\n"
     ]
    },
    {
     "data": {
      "text/plain": [
       "<matplotlib.collections.QuadMesh at 0x179193410>"
      ]
     },
     "execution_count": 262,
     "metadata": {},
     "output_type": "execute_result"
    },
    {
     "data": {
      "image/png": "[encoded data removed]",
      "text/plain": [
       "<Figure size 432x288 with 1 Axes>"
      ]
     },
     "metadata": {
      "needs_background": "light"
     },
     "output_type": "display_data"
    }
   ],
   "source": [
    "Heatmap('NP_test1.tif', '/Users/julyzhou/Desktop/DIRECT', 'Intensity_acc_map')"
   ]
  },
  {
   "cell_type": "code",
   "execution_count": null,
   "metadata": {},
   "outputs": [],
   "source": []
  }
 ],
 "metadata": {
  "kernelspec": {
   "display_name": "Python 3",
   "language": "python",
   "name": "python3"
  },
  "language_info": {
   "codemirror_mode": {
    "name": "ipython",
    "version": 3
   },
   "file_extension": ".py",
   "mimetype": "text/x-python",
   "name": "python",
   "nbconvert_exporter": "python",
   "pygments_lexer": "ipython3",
   "version": "3.7.4"
  }
 },
 "nbformat": 4,
 "nbformat_minor": 2
}
