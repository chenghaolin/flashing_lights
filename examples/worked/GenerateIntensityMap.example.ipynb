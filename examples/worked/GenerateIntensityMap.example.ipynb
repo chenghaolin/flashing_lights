{
 "cells": [
  {
   "cell_type": "markdown",
   "metadata": {},
   "source": [
    "# flashing_lights.GenerateIntensityMap() Example Notebook\n",
    "\n",
    "* This function is used to generate an accumulation of intensity calues for single pixels throughout the duration of an image stack. It is a particularly useful function for researchers presenting spatial features present within the image stck\n",
    "\n",
    "* Typical video formats include .mp4 and .tif; video format must be supported by opencv to be input correctly for this function"
   ]
  },
  {
   "cell_type": "markdown",
   "metadata": {},
   "source": [
    "### Part 1 - Importing Necessary Modules\n",
    "\n",
    "* For the code to run properly, we require a stack of modules that are available within the flashing_lights_env virtual environment."
   ]
  },
  {
   "cell_type": "code",
   "execution_count": 1,
   "metadata": {},
   "outputs": [],
   "source": [
    "import numpy as np\n",
    "import pandas as pd\n",
    "import matplotlib.pyplot as plt\n",
    "import cv2\n",
    "from GenerateIntensityMap import GetIntensityValues\n",
    "from GenerateIntensityMap import GetIntensityArray\n",
    "from GenerateIntensityMap import IntensityMap"
   ]
  },
  {
   "cell_type": "markdown",
   "metadata": {},
   "source": [
    "### Part 2 - Loading Video Files to Use"
   ]
  },
  {
   "cell_type": "code",
   "execution_count": 2,
   "metadata": {},
   "outputs": [],
   "source": [
    "test_video = '/Users/mcalli75/Desktop/brain_slice_video.tif'"
   ]
  },
  {
   "cell_type": "markdown",
   "metadata": {},
   "source": [
    "The above video is an image stack of stained neurons within a brain slice. Stained portions of the image have associated brightnesses, which we hope to record the intensity of for a heat map. "
   ]
  },
  {
   "cell_type": "markdown",
   "metadata": {},
   "source": [
    "### Part 3 - Obtaining Intensity Values of a Single Image\n",
    "* To accumulate the Intensity of brightness events within a video, we first need a function which can obtain the coordinates of pixels where events occur in each frame. To do this, we created a function that searches through a frame for pixels brighter than a given threshold, then stores the pixel brightness in the location of the event. Pixels with brightness values below the threshold are ignored. \n",
    "* Here is the code:"
   ]
  },
  {
   "cell_type": "markdown",
   "metadata": {},
   "source": [
    "```\n",
    "def GetIntensityValues(frame, threshold):\n",
    "    \"\"\"Searches through an image to find greyscale pixels above a certain\n",
    "    brightness threshold. If pixels of sufficient brightness are present\n",
    "    within the image the coordinates of the pixel are stored and the\n",
    "    brightness is added to an empty array\n",
    "\n",
    "    Inputs:\n",
    "\n",
    "    - frame: ndarray of pixels (image file or video frame)\n",
    "    - threshold: minimum brightness for an event detection\n",
    "\n",
    "    Output: an ndarray of intensity values for\n",
    "    pixels above the brightness threshold in the frame\n",
    "\n",
    "    \"\"\"\n",
    "     # Generating empty matrix for coordinate assignment\n",
    "    intensities = np.zeros(np.shape(frame))\n",
    "    # Generating index lists to keep track of ROI coordinates\n",
    "    index_count_row = []\n",
    "    index_count_col = []\n",
    "    # Looks through matrix for points above a brightness threshold\n",
    "    if len(np.where(frame >= threshold)) > 0:\n",
    "        # Finding coordinates of brightness events\n",
    "        row, col = np.where(frame >= threshold)\n",
    "        for i in range(len(row)):\n",
    "            for j in range(len(col)):\n",
    "                # Adds intensity value in the position of the\n",
    "                # given brightness event\n",
    "                intensities[row[i], col[j]] = frame[row[i], col[j]]\n",
    "                index_count_row.append(row[i])\n",
    "                index_count_col.append(col[j])\n",
    "    else:\n",
    "        pass\n",
    "    return intensities\n",
    "```"
   ]
  },
  {
   "cell_type": "markdown",
   "metadata": {},
   "source": [
    "**To run the code we just need a video file, for now we will set the brightness threshold as 5**"
   ]
  },
  {
   "cell_type": "code",
   "execution_count": 3,
   "metadata": {},
   "outputs": [],
   "source": [
    "# Reading in video file to use in code\n",
    "ret, img = cv2.imreadmulti(test_video, flags = cv2.IMREAD_GRAYSCALE)"
   ]
  },
  {
   "cell_type": "code",
   "execution_count": 4,
   "metadata": {},
   "outputs": [],
   "source": [
    "# This image has an incredibly large number of pixels (4252 x 7070)\n",
    "# To reduce the computational cost of this example, it has been resized to (42, 70)\n",
    "# \n",
    "# Setting Resizing Dimensions\n",
    "scale_percent = 1\n",
    "width = int(img[0].shape[1] * scale_percent / 100)\n",
    "height = int(img[0].shape[0] * scale_percent / 100)\n",
    "dim = (width, height)\n",
    "img_resized = cv2.resize(img[0], dim, interpolation = cv2.INTER_AREA)"
   ]
  },
  {
   "cell_type": "code",
   "execution_count": 6,
   "metadata": {},
   "outputs": [],
   "source": [
    "# Running the code \n",
    "int_val = GetIntensityValues(img_resized, 5)"
   ]
  },
  {
   "cell_type": "code",
   "execution_count": 7,
   "metadata": {},
   "outputs": [
    {
     "data": {
      "text/html": [
       "<div>\n",
       "<style scoped>\n",
       "    .dataframe tbody tr th:only-of-type {\n",
       "        vertical-align: middle;\n",
       "    }\n",
       "\n",
       "    .dataframe tbody tr th {\n",
       "        vertical-align: top;\n",
       "    }\n",
       "\n",
       "    .dataframe thead th {\n",
       "        text-align: right;\n",
       "    }\n",
       "</style>\n",
       "<table border=\"1\" class=\"dataframe\">\n",
       "  <thead>\n",
       "    <tr style=\"text-align: right;\">\n",
       "      <th></th>\n",
       "      <th>X</th>\n",
       "      <th>Y</th>\n",
       "    </tr>\n",
       "  </thead>\n",
       "  <tbody>\n",
       "    <tr>\n",
       "      <th>0</th>\n",
       "      <td>6</td>\n",
       "      <td>11</td>\n",
       "    </tr>\n",
       "    <tr>\n",
       "      <th>1</th>\n",
       "      <td>6</td>\n",
       "      <td>14</td>\n",
       "    </tr>\n",
       "    <tr>\n",
       "      <th>2</th>\n",
       "      <td>6</td>\n",
       "      <td>15</td>\n",
       "    </tr>\n",
       "    <tr>\n",
       "      <th>3</th>\n",
       "      <td>6</td>\n",
       "      <td>25</td>\n",
       "    </tr>\n",
       "    <tr>\n",
       "      <th>4</th>\n",
       "      <td>6</td>\n",
       "      <td>28</td>\n",
       "    </tr>\n",
       "    <tr>\n",
       "      <th>...</th>\n",
       "      <td>...</td>\n",
       "      <td>...</td>\n",
       "    </tr>\n",
       "    <tr>\n",
       "      <th>410</th>\n",
       "      <td>26</td>\n",
       "      <td>50</td>\n",
       "    </tr>\n",
       "    <tr>\n",
       "      <th>411</th>\n",
       "      <td>26</td>\n",
       "      <td>51</td>\n",
       "    </tr>\n",
       "    <tr>\n",
       "      <th>412</th>\n",
       "      <td>26</td>\n",
       "      <td>52</td>\n",
       "    </tr>\n",
       "    <tr>\n",
       "      <th>413</th>\n",
       "      <td>26</td>\n",
       "      <td>53</td>\n",
       "    </tr>\n",
       "    <tr>\n",
       "      <th>414</th>\n",
       "      <td>26</td>\n",
       "      <td>54</td>\n",
       "    </tr>\n",
       "  </tbody>\n",
       "</table>\n",
       "<p>415 rows × 2 columns</p>\n",
       "</div>"
      ],
      "text/plain": [
       "      X   Y\n",
       "0     6  11\n",
       "1     6  14\n",
       "2     6  15\n",
       "3     6  25\n",
       "4     6  28\n",
       "..   ..  ..\n",
       "410  26  50\n",
       "411  26  51\n",
       "412  26  52\n",
       "413  26  53\n",
       "414  26  54\n",
       "\n",
       "[415 rows x 2 columns]"
      ]
     },
     "execution_count": 7,
     "metadata": {},
     "output_type": "execute_result"
    }
   ],
   "source": [
    "# Finding where events occurred  \n",
    "row, col = np.where(int_val >= 1)\n",
    "int_coord = pd.DataFrame({'X':row, 'Y': col})\n",
    "int_coord"
   ]
  },
  {
   "cell_type": "markdown",
   "metadata": {},
   "source": [
    "So based on our threshold, 415 brightness events occurred, and our function allows us to quickly determine the coordinates of each point."
   ]
  },
  {
   "cell_type": "markdown",
   "metadata": {},
   "source": [
    "### Part - 4 Obtaining Intensity Values of a Single Image\n",
    "* Since our first function can pull out event coordinates in a single image, we need a function which can iterate through each frame in the video, storing an additional intensity value for every time a pixel lights up. From the output of this function, we can map our accumulated intensities over a blank image to produce a heatmap\n",
    "* Here is the code:"
   ]
  },
  {
   "cell_type": "markdown",
   "metadata": {},
   "source": [
    "```\n",
    "def GetIntensityArray(videofile, threshold, scale_percent):\n",
    "    \"\"\"Finds pixel coordinates within a videofile (.tif, .mp4) for pixels\n",
    "    that are above a brightness threshold, then accumulates the\n",
    "    brightness event intensities for each coordinate,\n",
    "    outputting it as a 2-D array in the same size as the video frames\n",
    "\n",
    "    Input:\n",
    "    -videofile: file containing an image stack of fluorescent events\n",
    "    -threshold: minimum brightness for detection\n",
    "    -scale_percent: helps resize image for faster computing speeds\n",
    "\n",
    "    Output: 2-d Array of accumulated intensity values for each pixel above\n",
    "    a calculated brightness threshold in the video\"\"\"\n",
    "    # Reading video file and convert to grayscale\n",
    "    ret, img = cv2.imreadmulti(videofile, flags=cv2.IMREAD_GRAYSCALE)\n",
    "    # Setting Resizing Dimensions\n",
    "    width = int(img[0].shape[1] * scale_percent / 100)\n",
    "    height = int(img[0].shape[0] * scale_percent / 100)\n",
    "    dim = (width, height)\n",
    "    img_resized = cv2.resize(img[0], dim, interpolation = cv2.INTER_AREA)\n",
    "    # Creating empty array to add intensity values to\n",
    "    int_array = np.zeros(np.shape(img_resized))\n",
    "    for frame in range(len(img)):\n",
    "        # Resize Frame\n",
    "        frame_resized = cv2.resize(img[frame],\n",
    "                                    dim, interpolation = cv2.INTER_AREA)\n",
    "        intensity = GetIntensityValues(frame_resized, threshold)\n",
    "        if len(np.where(intensity >= 1)) > 0:\n",
    "            # Get coordinates of the single pixel counts\n",
    "            row, col = np.where(intensity >= 1)\n",
    "            for i in range(len(row)):\n",
    "                for j in range(len(col)):\n",
    "                    # Add single count to freq_array in location of event\n",
    "                    int_array[row[i], col[j]] += intensity[row[i], col[j]]\n",
    "        else:\n",
    "            pass\n",
    "    return int_array\n",
    "```"
   ]
  },
  {
   "cell_type": "markdown",
   "metadata": {},
   "source": [
    "* **This code is much longer and more complicated than the last, but it only needs a videofile, threshold and scale factor. to run.**\n",
    "* **The scale_percent variable is used to reduce image sizes for faster processing speeds**"
   ]
  },
  {
   "cell_type": "code",
   "execution_count": 8,
   "metadata": {},
   "outputs": [],
   "source": [
    "x = GetIntensityArray(test_video, 5, 1)"
   ]
  },
  {
   "cell_type": "code",
   "execution_count": 9,
   "metadata": {},
   "outputs": [
    {
     "data": {
      "text/plain": [
       "(42, 70)"
      ]
     },
     "execution_count": 9,
     "metadata": {},
     "output_type": "execute_result"
    }
   ],
   "source": [
    "np.shape(x)"
   ]
  },
  {
   "cell_type": "code",
   "execution_count": 10,
   "metadata": {},
   "outputs": [
    {
     "data": {
      "text/plain": [
       "3780.0"
      ]
     },
     "execution_count": 10,
     "metadata": {},
     "output_type": "execute_result"
    }
   ],
   "source": [
    "x.max()"
   ]
  },
  {
   "cell_type": "markdown",
   "metadata": {},
   "source": [
    "### Part - 5 Generating the Intensity Map\n",
    "* Now that we have an array of total intensity values, we just need to map them onto a blank image to get our heatmap. \n",
    "* Here is the code:"
   ]
  },
  {
   "cell_type": "markdown",
   "metadata": {},
   "source": [
    "```\n",
    "def IntensityMap(videofile, threshold, scale_percent, img_path, img_name):\n",
    "    \"\"\"Takes intensity accumulation array from\n",
    "    GenerateIntensityMap.GetIntensityArray() and plots it as\n",
    "    a colored meshgrid.\n",
    "\n",
    "    Yellow pixels are at max intensity, blue pixels are\n",
    "    minimum intensity (cmap = 'plasma')\"\"\"\n",
    "     # Reading video file\n",
    "    ret, img = cv2.imreadmulti(videofile, flags=cv2.IMREAD_GRAYSCALE)\n",
    "    # obtaining frequency array\n",
    "    z = GetIntensityArray(videofile, threshold, scale_percent)\n",
    "    # Generating x and y axes in shape of image frame\n",
    "    width = int(img[0].shape[1] * scale_percent / 100)\n",
    "    height = int(img[0].shape[0] * scale_percent / 100)\n",
    "    dim = (width, height)\n",
    "    # resize image\n",
    "    frame_resized = cv2.resize(img[0], dim, interpolation = cv2.INTER_AREA)\n",
    "    pixel_X = np.arange(0, frame_resized.shape[1])\n",
    "    pixel_Y = np.arange(0, frame_resized.shape[0])\n",
    "    # Mapping intensity array onto the x and y axes\n",
    "    fig = plt.pcolormesh(pixel_X, pixel_Y, z, cmap='plasma')\n",
    "    plt.xlabel('Pixel Count')\n",
    "    plt.ylabel('Pixel Count')\n",
    "    plt.title('Intensity Map')\n",
    "    plt.colorbar()\n",
    "    # picture is saved in file location designated by user\n",
    "    plt.savefig(img_path + '/' + img_name + '.png', bbox_inches='tight')\n",
    "    return fig\n",
    "```"
   ]
  },
  {
   "cell_type": "code",
   "execution_count": 11,
   "metadata": {},
   "outputs": [
    {
     "name": "stdout",
     "output_type": "stream",
     "text": [
      "CPU times: user 1.47 s, sys: 107 ms, total: 1.58 s\n",
      "Wall time: 1.65 s\n"
     ]
    },
    {
     "data": {
      "text/plain": [
       "<matplotlib.collections.QuadMesh at 0x120697150>"
      ]
     },
     "execution_count": 11,
     "metadata": {},
     "output_type": "execute_result"
    },
    {
     "data": {
      "image/png": "[encoded data removed]",
      "text/plain": [
       "<Figure size 432x288 with 2 Axes>"
      ]
     },
     "metadata": {
      "needs_background": "light"
     },
     "output_type": "display_data"
    }
   ],
   "source": [
    "%time IntensityMap(test_video, 5, 1, '.', 'int_acc_map_lowres_notallfeatures')"
   ]
  },
  {
   "cell_type": "markdown",
   "metadata": {},
   "source": [
    "So the code ran, and a map was produced, but it does not contain the features we want. To see more features we must reduce the brightness threshold to a lower value. Lets try a value of 1 instead of 5."
   ]
  },
  {
   "cell_type": "code",
   "execution_count": 12,
   "metadata": {},
   "outputs": [
    {
     "name": "stdout",
     "output_type": "stream",
     "text": [
      "CPU times: user 29.1 s, sys: 1.01 s, total: 30.1 s\n",
      "Wall time: 31.5 s\n"
     ]
    },
    {
     "data": {
      "text/plain": [
       "<matplotlib.collections.QuadMesh at 0x12e08b390>"
      ]
     },
     "execution_count": 12,
     "metadata": {},
     "output_type": "execute_result"
    },
    {
     "data": {
      "image/png": "[encoded data removed]",
      "text/plain": [
       "<Figure size 432x288 with 2 Axes>"
      ]
     },
     "metadata": {
      "needs_background": "light"
     },
     "output_type": "display_data"
    }
   ],
   "source": [
    "%time IntensityMap(test_video, 1, 1, '.', 'int_acc_map_allfeatures')"
   ]
  },
  {
   "cell_type": "markdown",
   "metadata": {},
   "source": [
    "Great! We see plenty more features now that the brightness threshold was lower, and the code only took ~30s to run. The resolution could be much better though. Let's use a scale factor of 2 instead of 1 to see if we can have better resolved features."
   ]
  },
  {
   "cell_type": "code",
   "execution_count": 14,
   "metadata": {
    "scrolled": true
   },
   "outputs": [
    {
     "name": "stdout",
     "output_type": "stream",
     "text": [
      "CPU times: user 7min 25s, sys: 39.6 s, total: 8min 4s\n",
      "Wall time: 9min 5s\n"
     ]
    },
    {
     "data": {
      "text/plain": [
       "<matplotlib.collections.QuadMesh at 0x12e17cb10>"
      ]
     },
     "execution_count": 14,
     "metadata": {},
     "output_type": "execute_result"
    },
    {
     "data": {
      "image/png": "[encoded data removed]",
      "text/plain": [
       "<Figure size 432x288 with 2 Axes>"
      ]
     },
     "metadata": {
      "needs_background": "light"
     },
     "output_type": "display_data"
    }
   ],
   "source": [
    "%time IntensityMap(test_video, 1, 3, '.', 'int_acc_map_highres')"
   ]
  },
  {
   "cell_type": "markdown",
   "metadata": {},
   "source": [
    "Even better! However it is worth noting the time which it took to run this code; increasing the scale percent from 1 to 2 percent led to the code taking ~17 times longer to run. An extremely resolved output will require a long time to process, so before trying out this code, or the frequency accumulation, be sure to check the file size and pixel count of your image. Large files (many frames) and large pixel counts will drastically slow down the code. "
   ]
  }
 ],
 "metadata": {
  "kernelspec": {
   "display_name": "Python 3",
   "language": "python",
   "name": "python3"
  },
  "language_info": {
   "codemirror_mode": {
    "name": "ipython",
    "version": 3
   },
   "file_extension": ".py",
   "mimetype": "text/x-python",
   "name": "python",
   "nbconvert_exporter": "python",
   "pygments_lexer": "ipython3",
   "version": "3.7.4"
  }
 },
 "nbformat": 4,
 "nbformat_minor": 2
}
