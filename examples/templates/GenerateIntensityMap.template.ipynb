{
 "cells": [
  {
   "cell_type": "markdown",
   "metadata": {},
   "source": [
    "# flashing_lights.GenerateIntensityMap() User Template\n",
    "* Here to help you generate an intensity map from your own data\n",
    "* **Have flashing_lights installed before running this notebook**\n",
    "* Please look through the worked example notebook before executing code in this notebook.\n",
    "* Bullets with the heading \"USER:\" refer to instructions for the user to run the code\n",
    "* To execute code hit shift+enter; enter will only create a new line within a cell"
   ]
  },
  {
   "cell_type": "markdown",
   "metadata": {},
   "source": [
    "### Part 1 - Importing Modules\n",
    "* USER: This part does not need to be modified by the user"
   ]
  },
  {
   "cell_type": "code",
   "execution_count": null,
   "metadata": {},
   "outputs": [],
   "source": [
    "import numpy as np\n",
    "import pandas as pd\n",
    "import matplotlib.pyplot as plt\n",
    "import cv2\n",
    "from flashing_lights.GenerateIntensityMap import GetIntensityValues\n",
    "from flashing_lights.GenerateIntensityMap import GetIntensityArray\n",
    "from flashing_lights.GenerateIntensityMap import IntensityMap"
   ]
  },
  {
   "cell_type": "markdown",
   "metadata": {},
   "source": [
    "### Part 2 - Loading Video File\n",
    "* USER: Write the path to the videofile between the quotes"
   ]
  },
  {
   "cell_type": "code",
   "execution_count": null,
   "metadata": {},
   "outputs": [],
   "source": [
    "my_video = '~/<path to>/videofile.tif'"
   ]
  },
  {
   "cell_type": "markdown",
   "metadata": {},
   "source": [
    "### Part 3 - Generate Intensity Map\n",
    "* All we need to make an intensity map is the videofile, a threshold, and scale percent, as well as a filename and location, for the generated image\n",
    "* USER: \n",
    "    * Replace `img_path` with the path to the location you want the image saved; replace `img_name` with the desired filename of the generated image.\n",
    "        * Note: `img_path` and `img_name` must be strings, be sure to write them in quotes  \n",
    "    * Replace `thresh`, `scale%` with a brightness threshold and scale factor you want to be set\n",
    "        * Note: Depending on your threshold and scale factor this could take a while to run; if the function is not completing, you should interrupt the kernel, then decrease the scale factor. Increasing the threshold will help the code run faster, however not to the degree which the scale factor does"
   ]
  },
  {
   "cell_type": "code",
   "execution_count": null,
   "metadata": {},
   "outputs": [],
   "source": [
    "IntensityMap(my_video, thresh, scale%, img_path, img_name)"
   ]
  }
 ],
 "metadata": {
  "kernelspec": {
   "display_name": "Python 3",
   "language": "python",
   "name": "python3"
  },
  "language_info": {
   "codemirror_mode": {
    "name": "ipython",
    "version": 3
   },
   "file_extension": ".py",
   "mimetype": "text/x-python",
   "name": "python",
   "nbconvert_exporter": "python",
   "pygments_lexer": "ipython3",
   "version": "3.7.4"
  }
 },
 "nbformat": 4,
 "nbformat_minor": 2
}
